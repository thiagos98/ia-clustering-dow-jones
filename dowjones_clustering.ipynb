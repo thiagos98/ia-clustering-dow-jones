{
  "nbformat": 4,
  "nbformat_minor": 0,
  "metadata": {
    "language_info": {
      "codemirror_mode": {
        "name": "ipython",
        "version": 3
      },
      "file_extension": ".py",
      "mimetype": "text/x-python",
      "name": "python",
      "nbconvert_exporter": "python",
      "pygments_lexer": "ipython3",
      "version": "3.8.8"
    },
    "orig_nbformat": 2,
    "kernelspec": {
      "name": "python3",
      "display_name": "Python 3.8.8 64-bit ('base': conda)"
    },
    "colab": {
      "name": "dowjones_clustering.ipynb",
      "provenance": [],
      "collapsed_sections": []
    },
    "interpreter": {
      "hash": "d2a7b5421d390afecb9166efa16479337c20a6dd177e9dee4455610e09f8a00a"
    }
  },
  "cells": [
    {
      "cell_type": "code",
      "metadata": {
        "id": "Mm8cd0KPNPRT"
      },
      "source": [
        "import numpy as np # linear algebra\n",
        "import pandas as pd # data processing, CSV file I/O (e.g. pd.read_csv)\n",
        "import seaborn as sns\n",
        "import matplotlib.pyplot as plt\n",
        "from sklearn.model_selection import train_test_split #to split the dataset for training and testing\n",
        "from sklearn.cluster import KMeans# implements the K-Means algorithm for clustering.\n",
        "from sklearn import metrics"
      ],
      "execution_count": 40,
      "outputs": []
    },
    {
      "cell_type": "code",
      "metadata": {
        "id": "uDilwkSZNPRW"
      },
      "source": [
        "dji = pd.read_csv('./dow_jones_index.data', sep=',')"
      ],
      "execution_count": 41,
      "outputs": []
    },
    {
      "cell_type": "code",
      "metadata": {
        "id": "MgOHnVHxNPRW",
        "colab": {
          "base_uri": "https://localhost:8080/",
          "height": 203
        },
        "outputId": "49e3ab1c-d297-4e78-d82d-4a9fe4c69225"
      },
      "source": [
        "dji.drop(columns=['percent_change_price', 'percent_change_volume_over_last_wk', 'previous_weeks_volume', 'next_weeks_open', 'next_weeks_close', 'percent_change_next_weeks_price', 'days_to_next_dividend', 'percent_return_next_dividend'], inplace=True)\n",
        "dji.head()"
      ],
      "execution_count": 42,
      "outputs": [
        {
          "output_type": "execute_result",
          "data": {
            "text/plain": [
              "   quarter stock       date    open    high     low   close     volume\n",
              "0        1    AA   1/7/2011  $15.82  $16.72  $15.78  $16.42  239655616\n",
              "1        1    AA  1/14/2011  $16.71  $16.71  $15.64  $15.97  242963398\n",
              "2        1    AA  1/21/2011  $16.19  $16.38  $15.60  $15.79  138428495\n",
              "3        1    AA  1/28/2011  $15.87  $16.63  $15.82  $16.13  151379173\n",
              "4        1    AA   2/4/2011  $16.18  $17.39  $16.18  $17.14  154387761"
            ],
            "text/html": "<div>\n<style scoped>\n    .dataframe tbody tr th:only-of-type {\n        vertical-align: middle;\n    }\n\n    .dataframe tbody tr th {\n        vertical-align: top;\n    }\n\n    .dataframe thead th {\n        text-align: right;\n    }\n</style>\n<table border=\"1\" class=\"dataframe\">\n  <thead>\n    <tr style=\"text-align: right;\">\n      <th></th>\n      <th>quarter</th>\n      <th>stock</th>\n      <th>date</th>\n      <th>open</th>\n      <th>high</th>\n      <th>low</th>\n      <th>close</th>\n      <th>volume</th>\n    </tr>\n  </thead>\n  <tbody>\n    <tr>\n      <th>0</th>\n      <td>1</td>\n      <td>AA</td>\n      <td>1/7/2011</td>\n      <td>$15.82</td>\n      <td>$16.72</td>\n      <td>$15.78</td>\n      <td>$16.42</td>\n      <td>239655616</td>\n    </tr>\n    <tr>\n      <th>1</th>\n      <td>1</td>\n      <td>AA</td>\n      <td>1/14/2011</td>\n      <td>$16.71</td>\n      <td>$16.71</td>\n      <td>$15.64</td>\n      <td>$15.97</td>\n      <td>242963398</td>\n    </tr>\n    <tr>\n      <th>2</th>\n      <td>1</td>\n      <td>AA</td>\n      <td>1/21/2011</td>\n      <td>$16.19</td>\n      <td>$16.38</td>\n      <td>$15.60</td>\n      <td>$15.79</td>\n      <td>138428495</td>\n    </tr>\n    <tr>\n      <th>3</th>\n      <td>1</td>\n      <td>AA</td>\n      <td>1/28/2011</td>\n      <td>$15.87</td>\n      <td>$16.63</td>\n      <td>$15.82</td>\n      <td>$16.13</td>\n      <td>151379173</td>\n    </tr>\n    <tr>\n      <th>4</th>\n      <td>1</td>\n      <td>AA</td>\n      <td>2/4/2011</td>\n      <td>$16.18</td>\n      <td>$17.39</td>\n      <td>$16.18</td>\n      <td>$17.14</td>\n      <td>154387761</td>\n    </tr>\n  </tbody>\n</table>\n</div>"
          },
          "metadata": {},
          "execution_count": 42
        }
      ]
    },
    {
      "cell_type": "code",
      "metadata": {
        "id": "RmC8Yi4SNPRW"
      },
      "source": [
        "def corrigir_campo_valor(valor):\n",
        "    valor = valor.replace('$', '')\n",
        "    return float(valor)"
      ],
      "execution_count": 43,
      "outputs": []
    },
    {
      "cell_type": "code",
      "metadata": {
        "id": "D7rHXU_PNPRX"
      },
      "source": [
        "def corrigir_data(data):\n",
        "    data = data[:1]\n",
        "    return data"
      ],
      "execution_count": 44,
      "outputs": []
    },
    {
      "cell_type": "code",
      "metadata": {
        "id": "V2lRnuOaNPRX"
      },
      "source": [
        "dji['open'] = dji['open'].apply(corrigir_campo_valor)\n",
        "dji['high'] = dji['high'].apply(corrigir_campo_valor)\n",
        "dji['low'] = dji['low'].apply(corrigir_campo_valor)\n",
        "dji['close'] = dji['close'].apply(corrigir_campo_valor)\n",
        "dji['date'] = dji['date'].apply(corrigir_data)"
      ],
      "execution_count": 45,
      "outputs": []
    },
    {
      "cell_type": "code",
      "metadata": {
        "colab": {
          "base_uri": "https://localhost:8080/"
        },
        "id": "sJ_8VVGDNPRX",
        "outputId": "103fc435-f610-4066-a1f1-f02022a16e37"
      },
      "source": [
        "dji.info()"
      ],
      "execution_count": 46,
      "outputs": [
        {
          "output_type": "stream",
          "name": "stdout",
          "text": [
            "<class 'pandas.core.frame.DataFrame'>\nRangeIndex: 750 entries, 0 to 749\nData columns (total 8 columns):\n #   Column   Non-Null Count  Dtype  \n---  ------   --------------  -----  \n 0   quarter  750 non-null    int64  \n 1   stock    750 non-null    object \n 2   date     750 non-null    object \n 3   open     750 non-null    float64\n 4   high     750 non-null    float64\n 5   low      750 non-null    float64\n 6   close    750 non-null    float64\n 7   volume   750 non-null    int64  \ndtypes: float64(4), int64(2), object(2)\nmemory usage: 47.0+ KB\n"
          ]
        }
      ]
    },
    {
      "cell_type": "code",
      "metadata": {
        "id": "blw2JQhnNPRY"
      },
      "source": [
        "dji = dji.sort_values(by='date')"
      ],
      "execution_count": 47,
      "outputs": []
    },
    {
      "cell_type": "code",
      "metadata": {
        "id": "nOKqMkXdNPRY"
      },
      "source": [
        "mes = '3'\n",
        "df_mes = dji[dji['date'] == mes]"
      ],
      "execution_count": 48,
      "outputs": []
    },
    {
      "cell_type": "code",
      "metadata": {
        "id": "4ltKLRjVNPRZ",
        "colab": {
          "base_uri": "https://localhost:8080/"
        },
        "outputId": "de339cef-96b1-43eb-de0f-d75d631730b3"
      },
      "source": [
        "train_x = df_mes[['close', 'volume']]\n",
        "\n",
        "train_x.shape"
      ],
      "execution_count": 49,
      "outputs": [
        {
          "output_type": "execute_result",
          "data": {
            "text/plain": [
              "(120, 2)"
            ]
          },
          "metadata": {},
          "execution_count": 49
        }
      ]
    },
    {
      "cell_type": "code",
      "metadata": {
        "id": "knZdWG8HNPRZ"
      },
      "source": [
        "kmeans = KMeans(n_clusters=3)\n",
        "kmeans.fit(train_x)\n",
        "x_clustered = kmeans.predict(train_x)"
      ],
      "execution_count": 50,
      "outputs": []
    },
    {
      "cell_type": "code",
      "metadata": {
        "colab": {
          "base_uri": "https://localhost:8080/",
          "height": 307
        },
        "id": "KxuAUm35NPRZ",
        "outputId": "9891eea7-71dd-4b50-95f1-4502347b9fc8"
      },
      "source": [
        "sns.scatterplot(data=df_mes, x='close', y='volume', hue=x_clustered, palette='coolwarm_r')\n",
        "\n",
        "centers = kmeans.cluster_centers_\n",
        "\n",
        "plt.scatter(centers[:, 0], centers[:, 1], c='black', s=200, alpha=0.6)\n",
        "plt.xlabel('close')\n",
        "plt.ylabel('volume')"
      ],
      "execution_count": 51,
      "outputs": [
        {
          "output_type": "execute_result",
          "data": {
            "text/plain": [
              "Text(0, 0.5, 'volume')"
            ]
          },
          "metadata": {},
          "execution_count": 51
        },
        {
          "output_type": "display_data",
          "data": {
            "text/plain": "<Figure size 432x288 with 1 Axes>",
            "image/svg+xml": "<?xml version=\"1.0\" encoding=\"utf-8\" standalone=\"no\"?>\r\n<!DOCTYPE svg PUBLIC \"-//W3C//DTD SVG 1.1//EN\"\r\n  \"http://www.w3.org/Graphics/SVG/1.1/DTD/svg11.dtd\">\r\n<!-- Created with matplotlib (https://matplotlib.org/) -->\r\n<svg height=\"272.794688pt\" version=\"1.1\" viewBox=\"0 0 376.240625 272.794688\" width=\"376.240625pt\" xmlns=\"http://www.w3.org/2000/svg\" xmlns:xlink=\"http://www.w3.org/1999/xlink\">\r\n <metadata>\r\n  <rdf:RDF xmlns:cc=\"http://creativecommons.org/ns#\" xmlns:dc=\"http://purl.org/dc/elements/1.1/\" xmlns:rdf=\"http://www.w3.org/1999/02/22-rdf-syntax-ns#\">\r\n   <cc:Work>\r\n    <dc:type rdf:resource=\"http://purl.org/dc/dcmitype/StillImage\"/>\r\n    <dc:date>2021-07-05T00:01:34.192603</dc:date>\r\n    <dc:format>image/svg+xml</dc:format>\r\n    <dc:creator>\r\n     <cc:Agent>\r\n      <dc:title>Matplotlib v3.3.4, https://matplotlib.org/</dc:title>\r\n     </cc:Agent>\r\n    </dc:creator>\r\n   </cc:Work>\r\n  </rdf:RDF>\r\n </metadata>\r\n <defs>\r\n  <style type=\"text/css\">*{stroke-linecap:butt;stroke-linejoin:round;}</style>\r\n </defs>\r\n <g id=\"figure_1\">\r\n  <g id=\"patch_1\">\r\n   <path d=\"M 0 272.794688 \r\nL 376.240625 272.794688 \r\nL 376.240625 0 \r\nL 0 0 \r\nz\r\n\" style=\"fill:none;\"/>\r\n  </g>\r\n  <g id=\"axes_1\">\r\n   <g id=\"patch_2\">\r\n    <path d=\"M 34.240625 235.238438 \r\nL 369.040625 235.238438 \r\nL 369.040625 17.798438 \r\nL 34.240625 17.798438 \r\nz\r\n\" style=\"fill:#ffffff;\"/>\r\n   </g>\r\n   <g id=\"PathCollection_1\">\r\n    <defs>\r\n     <path d=\"M 0 3 \r\nC 0.795609 3 1.55874 2.683901 2.12132 2.12132 \r\nC 2.683901 1.55874 3 0.795609 3 -0 \r\nC 3 -0.795609 2.683901 -1.55874 2.12132 -2.12132 \r\nC 1.55874 -2.683901 0.795609 -3 0 -3 \r\nC -0.795609 -3 -1.55874 -2.683901 -2.12132 -2.12132 \r\nC -2.683901 -1.55874 -3 -0.795609 -3 0 \r\nC -3 0.795609 -2.683901 1.55874 -2.12132 2.12132 \r\nC -1.55874 2.683901 -0.795609 3 0 3 \r\nz\r\n\" id=\"C0_0_a277bbeb03\"/>\r\n    </defs>\r\n    <g clip-path=\"url(#pf94552cb8b)\">\r\n     <use style=\"fill:#b40426;stroke:#ffffff;stroke-width:0.48;\" x=\"141.79476\" xlink:href=\"#C0_0_a277bbeb03\" y=\"210.964434\"/>\r\n    </g>\r\n    <g clip-path=\"url(#pf94552cb8b)\">\r\n     <use style=\"fill:#b40426;stroke:#ffffff;stroke-width:0.48;\" x=\"232.579192\" xlink:href=\"#C0_0_a277bbeb03\" y=\"221.425556\"/>\r\n    </g>\r\n    <g clip-path=\"url(#pf94552cb8b)\">\r\n     <use style=\"fill:#b40426;stroke:#ffffff;stroke-width:0.48;\" x=\"226.413935\" xlink:href=\"#C0_0_a277bbeb03\" y=\"219.236011\"/>\r\n    </g>\r\n    <g clip-path=\"url(#pf94552cb8b)\">\r\n     <use style=\"fill:#b40426;stroke:#ffffff;stroke-width:0.48;\" x=\"236.702973\" xlink:href=\"#C0_0_a277bbeb03\" y=\"215.342542\"/>\r\n    </g>\r\n    <g clip-path=\"url(#pf94552cb8b)\">\r\n     <use style=\"fill:#b40426;stroke:#ffffff;stroke-width:0.48;\" x=\"142.427618\" xlink:href=\"#C0_0_a277bbeb03\" y=\"224.891494\"/>\r\n    </g>\r\n    <g clip-path=\"url(#pf94552cb8b)\">\r\n     <use style=\"fill:#b40426;stroke:#ffffff;stroke-width:0.48;\" x=\"244.930121\" xlink:href=\"#C0_0_a277bbeb03\" y=\"219.430063\"/>\r\n    </g>\r\n    <g clip-path=\"url(#pf94552cb8b)\">\r\n     <use style=\"fill:#b40426;stroke:#ffffff;stroke-width:0.48;\" x=\"81.122097\" xlink:href=\"#C0_0_a277bbeb03\" y=\"186.629403\"/>\r\n    </g>\r\n    <g clip-path=\"url(#pf94552cb8b)\">\r\n     <use style=\"fill:#b40426;stroke:#ffffff;stroke-width:0.48;\" x=\"79.264354\" xlink:href=\"#C0_0_a277bbeb03\" y=\"190.452139\"/>\r\n    </g>\r\n    <g clip-path=\"url(#pf94552cb8b)\">\r\n     <use style=\"fill:#b40426;stroke:#ffffff;stroke-width:0.48;\" x=\"80.325922\" xlink:href=\"#C0_0_a277bbeb03\" y=\"194.113698\"/>\r\n    </g>\r\n    <g clip-path=\"url(#pf94552cb8b)\">\r\n     <use style=\"fill:#b40426;stroke:#ffffff;stroke-width:0.48;\" x=\"79.223525\" xlink:href=\"#C0_0_a277bbeb03\" y=\"199.214455\"/>\r\n    </g>\r\n    <g clip-path=\"url(#pf94552cb8b)\">\r\n     <use style=\"fill:#3b4cc0;stroke:#ffffff;stroke-width:0.48;\" x=\"59.788675\" xlink:href=\"#C0_0_a277bbeb03\" y=\"153.407252\"/>\r\n    </g>\r\n    <g clip-path=\"url(#pf94552cb8b)\">\r\n     <use style=\"fill:#b40426;stroke:#ffffff;stroke-width:0.48;\" x=\"143.04006\" xlink:href=\"#C0_0_a277bbeb03\" y=\"223.816204\"/>\r\n    </g>\r\n    <g clip-path=\"url(#pf94552cb8b)\">\r\n     <use style=\"fill:#b40426;stroke:#ffffff;stroke-width:0.48;\" x=\"140.753607\" xlink:href=\"#C0_0_a277bbeb03\" y=\"222.679759\"/>\r\n    </g>\r\n    <g clip-path=\"url(#pf94552cb8b)\">\r\n     <use style=\"fill:#b40426;stroke:#ffffff;stroke-width:0.48;\" x=\"163.291501\" xlink:href=\"#C0_0_a277bbeb03\" y=\"221.451829\"/>\r\n    </g>\r\n    <g clip-path=\"url(#pf94552cb8b)\">\r\n     <use style=\"fill:#dcdddd;stroke:#ffffff;stroke-width:0.48;\" x=\"49.458807\" xlink:href=\"#C0_0_a277bbeb03\" y=\"49.554125\"/>\r\n    </g>\r\n    <g clip-path=\"url(#pf94552cb8b)\">\r\n     <use style=\"fill:#b40426;stroke:#ffffff;stroke-width:0.48;\" x=\"192.93373\" xlink:href=\"#C0_0_a277bbeb03\" y=\"208.053953\"/>\r\n    </g>\r\n    <g clip-path=\"url(#pf94552cb8b)\">\r\n     <use style=\"fill:#b40426;stroke:#ffffff;stroke-width:0.48;\" x=\"187.278842\" xlink:href=\"#C0_0_a277bbeb03\" y=\"197.921555\"/>\r\n    </g>\r\n    <g clip-path=\"url(#pf94552cb8b)\">\r\n     <use style=\"fill:#b40426;stroke:#ffffff;stroke-width:0.48;\" x=\"189.871517\" xlink:href=\"#C0_0_a277bbeb03\" y=\"205.714273\"/>\r\n    </g>\r\n    <g clip-path=\"url(#pf94552cb8b)\">\r\n     <use style=\"fill:#b40426;stroke:#ffffff;stroke-width:0.48;\" x=\"195.914285\" xlink:href=\"#C0_0_a277bbeb03\" y=\"203.363873\"/>\r\n    </g>\r\n    <g clip-path=\"url(#pf94552cb8b)\">\r\n     <use style=\"fill:#b40426;stroke:#ffffff;stroke-width:0.48;\" x=\"56.073189\" xlink:href=\"#C0_0_a277bbeb03\" y=\"201.525058\"/>\r\n    </g>\r\n    <g clip-path=\"url(#pf94552cb8b)\">\r\n     <use style=\"fill:#b40426;stroke:#ffffff;stroke-width:0.48;\" x=\"54.950377\" xlink:href=\"#C0_0_a277bbeb03\" y=\"200.315788\"/>\r\n    </g>\r\n    <g clip-path=\"url(#pf94552cb8b)\">\r\n     <use style=\"fill:#b40426;stroke:#ffffff;stroke-width:0.48;\" x=\"55.113695\" xlink:href=\"#C0_0_a277bbeb03\" y=\"196.307394\"/>\r\n    </g>\r\n    <g clip-path=\"url(#pf94552cb8b)\">\r\n     <use style=\"fill:#b40426;stroke:#ffffff;stroke-width:0.48;\" x=\"57.114341\" xlink:href=\"#C0_0_a277bbeb03\" y=\"205.008997\"/>\r\n    </g>\r\n    <g clip-path=\"url(#pf94552cb8b)\">\r\n     <use style=\"fill:#b40426;stroke:#ffffff;stroke-width:0.48;\" x=\"129.09678\" xlink:href=\"#C0_0_a277bbeb03\" y=\"215.545063\"/>\r\n    </g>\r\n    <g clip-path=\"url(#pf94552cb8b)\">\r\n     <use style=\"fill:#b40426;stroke:#ffffff;stroke-width:0.48;\" x=\"127.402355\" xlink:href=\"#C0_0_a277bbeb03\" y=\"213.093033\"/>\r\n    </g>\r\n    <g clip-path=\"url(#pf94552cb8b)\">\r\n     <use style=\"fill:#b40426;stroke:#ffffff;stroke-width:0.48;\" x=\"129.586734\" xlink:href=\"#C0_0_a277bbeb03\" y=\"211.597024\"/>\r\n    </g>\r\n    <g clip-path=\"url(#pf94552cb8b)\">\r\n     <use style=\"fill:#b40426;stroke:#ffffff;stroke-width:0.48;\" x=\"128.525167\" xlink:href=\"#C0_0_a277bbeb03\" y=\"210.152988\"/>\r\n    </g>\r\n    <g clip-path=\"url(#pf94552cb8b)\">\r\n     <use style=\"fill:#b40426;stroke:#ffffff;stroke-width:0.48;\" x=\"111.478844\" xlink:href=\"#C0_0_a277bbeb03\" y=\"219.14331\"/>\r\n    </g>\r\n    <g clip-path=\"url(#pf94552cb8b)\">\r\n     <use style=\"fill:#b40426;stroke:#ffffff;stroke-width:0.48;\" x=\"112.62207\" xlink:href=\"#C0_0_a277bbeb03\" y=\"219.486042\"/>\r\n    </g>\r\n    <g clip-path=\"url(#pf94552cb8b)\">\r\n     <use style=\"fill:#b40426;stroke:#ffffff;stroke-width:0.48;\" x=\"112.397508\" xlink:href=\"#C0_0_a277bbeb03\" y=\"218.450532\"/>\r\n    </g>\r\n    <g clip-path=\"url(#pf94552cb8b)\">\r\n     <use style=\"fill:#b40426;stroke:#ffffff;stroke-width:0.48;\" x=\"115.296403\" xlink:href=\"#C0_0_a277bbeb03\" y=\"221.188969\"/>\r\n    </g>\r\n    <g clip-path=\"url(#pf94552cb8b)\">\r\n     <use style=\"fill:#b40426;stroke:#ffffff;stroke-width:0.48;\" x=\"98.352154\" xlink:href=\"#C0_0_a277bbeb03\" y=\"208.993573\"/>\r\n    </g>\r\n    <g clip-path=\"url(#pf94552cb8b)\">\r\n     <use style=\"fill:#dcdddd;stroke:#ffffff;stroke-width:0.48;\" x=\"50.88784\" xlink:href=\"#C0_0_a277bbeb03\" y=\"30.887937\"/>\r\n    </g>\r\n    <g clip-path=\"url(#pf94552cb8b)\">\r\n     <use style=\"fill:#dcdddd;stroke:#ffffff;stroke-width:0.48;\" x=\"51.581942\" xlink:href=\"#C0_0_a277bbeb03\" y=\"27.682074\"/>\r\n    </g>\r\n    <g clip-path=\"url(#pf94552cb8b)\">\r\n     <use style=\"fill:#dcdddd;stroke:#ffffff;stroke-width:0.48;\" x=\"51.051158\" xlink:href=\"#C0_0_a277bbeb03\" y=\"54.053689\"/>\r\n    </g>\r\n    <g clip-path=\"url(#pf94552cb8b)\">\r\n     <use style=\"fill:#b40426;stroke:#ffffff;stroke-width:0.48;\" x=\"191.382209\" xlink:href=\"#C0_0_a277bbeb03\" y=\"224.095301\"/>\r\n    </g>\r\n    <g clip-path=\"url(#pf94552cb8b)\">\r\n     <use style=\"fill:#b40426;stroke:#ffffff;stroke-width:0.48;\" x=\"188.156677\" xlink:href=\"#C0_0_a277bbeb03\" y=\"223.386336\"/>\r\n    </g>\r\n    <g clip-path=\"url(#pf94552cb8b)\">\r\n     <use style=\"fill:#b40426;stroke:#ffffff;stroke-width:0.48;\" x=\"185.870224\" xlink:href=\"#C0_0_a277bbeb03\" y=\"222.329253\"/>\r\n    </g>\r\n    <g clip-path=\"url(#pf94552cb8b)\">\r\n     <use style=\"fill:#b40426;stroke:#ffffff;stroke-width:0.48;\" x=\"142.631765\" xlink:href=\"#C0_0_a277bbeb03\" y=\"225.354801\"/>\r\n    </g>\r\n    <g clip-path=\"url(#pf94552cb8b)\">\r\n     <use style=\"fill:#b40426;stroke:#ffffff;stroke-width:0.48;\" x=\"142.631765\" xlink:href=\"#C0_0_a277bbeb03\" y=\"217.016127\"/>\r\n    </g>\r\n    <g clip-path=\"url(#pf94552cb8b)\">\r\n     <use style=\"fill:#3b4cc0;stroke:#ffffff;stroke-width:0.48;\" x=\"58.870011\" xlink:href=\"#C0_0_a277bbeb03\" y=\"151.121023\"/>\r\n    </g>\r\n    <g clip-path=\"url(#pf94552cb8b)\">\r\n     <use style=\"fill:#b40426;stroke:#ffffff;stroke-width:0.48;\" x=\"168.47685\" xlink:href=\"#C0_0_a277bbeb03\" y=\"222.498827\"/>\r\n    </g>\r\n    <g clip-path=\"url(#pf94552cb8b)\">\r\n     <use style=\"fill:#b40426;stroke:#ffffff;stroke-width:0.48;\" x=\"168.803486\" xlink:href=\"#C0_0_a277bbeb03\" y=\"222.006325\"/>\r\n    </g>\r\n    <g clip-path=\"url(#pf94552cb8b)\">\r\n     <use style=\"fill:#b40426;stroke:#ffffff;stroke-width:0.48;\" x=\"95.881968\" xlink:href=\"#C0_0_a277bbeb03\" y=\"208.873097\"/>\r\n    </g>\r\n    <g clip-path=\"url(#pf94552cb8b)\">\r\n     <use style=\"fill:#b40426;stroke:#ffffff;stroke-width:0.48;\" x=\"95.412428\" xlink:href=\"#C0_0_a277bbeb03\" y=\"212.358444\"/>\r\n    </g>\r\n    <g clip-path=\"url(#pf94552cb8b)\">\r\n     <use style=\"fill:#b40426;stroke:#ffffff;stroke-width:0.48;\" x=\"95.392014\" xlink:href=\"#C0_0_a277bbeb03\" y=\"197.849611\"/>\r\n    </g>\r\n    <g clip-path=\"url(#pf94552cb8b)\">\r\n     <use style=\"fill:#b40426;stroke:#ffffff;stroke-width:0.48;\" x=\"171.947359\" xlink:href=\"#C0_0_a277bbeb03\" y=\"222.781874\"/>\r\n    </g>\r\n    <g clip-path=\"url(#pf94552cb8b)\">\r\n     <use style=\"fill:#3b4cc0;stroke:#ffffff;stroke-width:0.48;\" x=\"57.216415\" xlink:href=\"#C0_0_a277bbeb03\" y=\"117.899484\"/>\r\n    </g>\r\n    <g clip-path=\"url(#pf94552cb8b)\">\r\n     <use style=\"fill:#b40426;stroke:#ffffff;stroke-width:0.48;\" x=\"192.729583\" xlink:href=\"#C0_0_a277bbeb03\" y=\"224.128909\"/>\r\n    </g>\r\n    <g clip-path=\"url(#pf94552cb8b)\">\r\n     <use style=\"fill:#b40426;stroke:#ffffff;stroke-width:0.48;\" x=\"146.510569\" xlink:href=\"#C0_0_a277bbeb03\" y=\"218.552074\"/>\r\n    </g>\r\n    <g clip-path=\"url(#pf94552cb8b)\">\r\n     <use style=\"fill:#b40426;stroke:#ffffff;stroke-width:0.48;\" x=\"109.049487\" xlink:href=\"#C0_0_a277bbeb03\" y=\"209.372087\"/>\r\n    </g>\r\n    <g clip-path=\"url(#pf94552cb8b)\">\r\n     <use style=\"fill:#b40426;stroke:#ffffff;stroke-width:0.48;\" x=\"155.35016\" xlink:href=\"#C0_0_a277bbeb03\" y=\"213.47589\"/>\r\n    </g>\r\n    <g clip-path=\"url(#pf94552cb8b)\">\r\n     <use style=\"fill:#b40426;stroke:#ffffff;stroke-width:0.48;\" x=\"154.533569\" xlink:href=\"#C0_0_a277bbeb03\" y=\"217.750251\"/>\r\n    </g>\r\n    <g clip-path=\"url(#pf94552cb8b)\">\r\n     <use style=\"fill:#b40426;stroke:#ffffff;stroke-width:0.48;\" x=\"150.226055\" xlink:href=\"#C0_0_a277bbeb03\" y=\"214.006385\"/>\r\n    </g>\r\n    <g clip-path=\"url(#pf94552cb8b)\">\r\n     <use style=\"fill:#b40426;stroke:#ffffff;stroke-width:0.48;\" x=\"155.370575\" xlink:href=\"#C0_0_a277bbeb03\" y=\"221.425076\"/>\r\n    </g>\r\n    <g clip-path=\"url(#pf94552cb8b)\">\r\n     <use style=\"fill:#b40426;stroke:#ffffff;stroke-width:0.48;\" x=\"106.579301\" xlink:href=\"#C0_0_a277bbeb03\" y=\"198.636821\"/>\r\n    </g>\r\n    <g clip-path=\"url(#pf94552cb8b)\">\r\n     <use style=\"fill:#b40426;stroke:#ffffff;stroke-width:0.48;\" x=\"352.597558\" xlink:href=\"#C0_0_a277bbeb03\" y=\"223.500124\"/>\r\n    </g>\r\n    <g clip-path=\"url(#pf94552cb8b)\">\r\n     <use style=\"fill:#b40426;stroke:#ffffff;stroke-width:0.48;\" x=\"107.416307\" xlink:href=\"#C0_0_a277bbeb03\" y=\"207.610104\"/>\r\n    </g>\r\n    <g clip-path=\"url(#pf94552cb8b)\">\r\n     <use style=\"fill:#b40426;stroke:#ffffff;stroke-width:0.48;\" x=\"98.617546\" xlink:href=\"#C0_0_a277bbeb03\" y=\"218.805354\"/>\r\n    </g>\r\n    <g clip-path=\"url(#pf94552cb8b)\">\r\n     <use style=\"fill:#b40426;stroke:#ffffff;stroke-width:0.48;\" x=\"177.438929\" xlink:href=\"#C0_0_a277bbeb03\" y=\"218.627879\"/>\r\n    </g>\r\n    <g clip-path=\"url(#pf94552cb8b)\">\r\n     <use style=\"fill:#b40426;stroke:#ffffff;stroke-width:0.48;\" x=\"178.867962\" xlink:href=\"#C0_0_a277bbeb03\" y=\"220.17529\"/>\r\n    </g>\r\n    <g clip-path=\"url(#pf94552cb8b)\">\r\n     <use style=\"fill:#b40426;stroke:#ffffff;stroke-width:0.48;\" x=\"171.232842\" xlink:href=\"#C0_0_a277bbeb03\" y=\"218.676481\"/>\r\n    </g>\r\n    <g clip-path=\"url(#pf94552cb8b)\">\r\n     <use style=\"fill:#b40426;stroke:#ffffff;stroke-width:0.48;\" x=\"175.846577\" xlink:href=\"#C0_0_a277bbeb03\" y=\"222.918332\"/>\r\n    </g>\r\n    <g clip-path=\"url(#pf94552cb8b)\">\r\n     <use style=\"fill:#b40426;stroke:#ffffff;stroke-width:0.48;\" x=\"95.71865\" xlink:href=\"#C0_0_a277bbeb03\" y=\"215.701553\"/>\r\n    </g>\r\n    <g clip-path=\"url(#pf94552cb8b)\">\r\n     <use style=\"fill:#b40426;stroke:#ffffff;stroke-width:0.48;\" x=\"109.212805\" xlink:href=\"#C0_0_a277bbeb03\" y=\"201.222894\"/>\r\n    </g>\r\n    <g clip-path=\"url(#pf94552cb8b)\">\r\n     <use style=\"fill:#b40426;stroke:#ffffff;stroke-width:0.48;\" x=\"98.045932\" xlink:href=\"#C0_0_a277bbeb03\" y=\"216.601786\"/>\r\n    </g>\r\n    <g clip-path=\"url(#pf94552cb8b)\">\r\n     <use style=\"fill:#b40426;stroke:#ffffff;stroke-width:0.48;\" x=\"353.822443\" xlink:href=\"#C0_0_a277bbeb03\" y=\"221.108628\"/>\r\n    </g>\r\n    <g clip-path=\"url(#pf94552cb8b)\">\r\n     <use style=\"fill:#b40426;stroke:#ffffff;stroke-width:0.48;\" x=\"86.042054\" xlink:href=\"#C0_0_a277bbeb03\" y=\"218.400339\"/>\r\n    </g>\r\n    <g clip-path=\"url(#pf94552cb8b)\">\r\n     <use style=\"fill:#3b4cc0;stroke:#ffffff;stroke-width:0.48;\" x=\"57.502222\" xlink:href=\"#C0_0_a277bbeb03\" y=\"157.776539\"/>\r\n    </g>\r\n    <g clip-path=\"url(#pf94552cb8b)\">\r\n     <use style=\"fill:#b40426;stroke:#ffffff;stroke-width:0.48;\" x=\"144.081213\" xlink:href=\"#C0_0_a277bbeb03\" y=\"215.430378\"/>\r\n    </g>\r\n    <g clip-path=\"url(#pf94552cb8b)\">\r\n     <use style=\"fill:#b40426;stroke:#ffffff;stroke-width:0.48;\" x=\"146.878035\" xlink:href=\"#C0_0_a277bbeb03\" y=\"212.998463\"/>\r\n    </g>\r\n    <g clip-path=\"url(#pf94552cb8b)\">\r\n     <use style=\"fill:#3b4cc0;stroke:#ffffff;stroke-width:0.48;\" x=\"63.810382\" xlink:href=\"#C0_0_a277bbeb03\" y=\"171.625498\"/>\r\n    </g>\r\n    <g clip-path=\"url(#pf94552cb8b)\">\r\n     <use style=\"fill:#b40426;stroke:#ffffff;stroke-width:0.48;\" x=\"115.1535\" xlink:href=\"#C0_0_a277bbeb03\" y=\"194.139041\"/>\r\n    </g>\r\n    <g clip-path=\"url(#pf94552cb8b)\">\r\n     <use style=\"fill:#b40426;stroke:#ffffff;stroke-width:0.48;\" x=\"115.602625\" xlink:href=\"#C0_0_a277bbeb03\" y=\"193.798597\"/>\r\n    </g>\r\n    <g clip-path=\"url(#pf94552cb8b)\">\r\n     <use style=\"fill:#b40426;stroke:#ffffff;stroke-width:0.48;\" x=\"340.471191\" xlink:href=\"#C0_0_a277bbeb03\" y=\"218.432977\"/>\r\n    </g>\r\n    <g clip-path=\"url(#pf94552cb8b)\">\r\n     <use style=\"fill:#3b4cc0;stroke:#ffffff;stroke-width:0.48;\" x=\"115.602625\" xlink:href=\"#C0_0_a277bbeb03\" y=\"172.309446\"/>\r\n    </g>\r\n    <g clip-path=\"url(#pf94552cb8b)\">\r\n     <use style=\"fill:#3b4cc0;stroke:#ffffff;stroke-width:0.48;\" x=\"62.912133\" xlink:href=\"#C0_0_a277bbeb03\" y=\"142.07136\"/>\r\n    </g>\r\n    <g clip-path=\"url(#pf94552cb8b)\">\r\n     <use style=\"fill:#3b4cc0;stroke:#ffffff;stroke-width:0.48;\" x=\"64.83112\" xlink:href=\"#C0_0_a277bbeb03\" y=\"156.452016\"/>\r\n    </g>\r\n    <g clip-path=\"url(#pf94552cb8b)\">\r\n     <use style=\"fill:#b40426;stroke:#ffffff;stroke-width:0.48;\" x=\"353.312074\" xlink:href=\"#C0_0_a277bbeb03\" y=\"222.542431\"/>\r\n    </g>\r\n    <g clip-path=\"url(#pf94552cb8b)\">\r\n     <use style=\"fill:#b40426;stroke:#ffffff;stroke-width:0.48;\" x=\"86.695327\" xlink:href=\"#C0_0_a277bbeb03\" y=\"215.088797\"/>\r\n    </g>\r\n    <g clip-path=\"url(#pf94552cb8b)\">\r\n     <use style=\"fill:#b40426;stroke:#ffffff;stroke-width:0.48;\" x=\"86.940304\" xlink:href=\"#C0_0_a277bbeb03\" y=\"218.448171\"/>\r\n    </g>\r\n    <g clip-path=\"url(#pf94552cb8b)\">\r\n     <use style=\"fill:#b40426;stroke:#ffffff;stroke-width:0.48;\" x=\"85.490856\" xlink:href=\"#C0_0_a277bbeb03\" y=\"215.957086\"/>\r\n    </g>\r\n    <g clip-path=\"url(#pf94552cb8b)\">\r\n     <use style=\"fill:#b40426;stroke:#ffffff;stroke-width:0.48;\" x=\"115.847602\" xlink:href=\"#C0_0_a277bbeb03\" y=\"199.409518\"/>\r\n    </g>\r\n    <g clip-path=\"url(#pf94552cb8b)\">\r\n     <use style=\"fill:#b40426;stroke:#ffffff;stroke-width:0.48;\" x=\"98.20925\" xlink:href=\"#C0_0_a277bbeb03\" y=\"216.450028\"/>\r\n    </g>\r\n    <g clip-path=\"url(#pf94552cb8b)\">\r\n     <use style=\"fill:#3b4cc0;stroke:#ffffff;stroke-width:0.48;\" x=\"66.239738\" xlink:href=\"#C0_0_a277bbeb03\" y=\"155.983061\"/>\r\n    </g>\r\n    <g clip-path=\"url(#pf94552cb8b)\">\r\n     <use style=\"fill:#b40426;stroke:#ffffff;stroke-width:0.48;\" x=\"240.214311\" xlink:href=\"#C0_0_a277bbeb03\" y=\"218.987973\"/>\r\n    </g>\r\n    <g clip-path=\"url(#pf94552cb8b)\">\r\n     <use style=\"fill:#b40426;stroke:#ffffff;stroke-width:0.48;\" x=\"132.669363\" xlink:href=\"#C0_0_a277bbeb03\" y=\"222.771624\"/>\r\n    </g>\r\n    <g clip-path=\"url(#pf94552cb8b)\">\r\n     <use style=\"fill:#b40426;stroke:#ffffff;stroke-width:0.48;\" x=\"130.403325\" xlink:href=\"#C0_0_a277bbeb03\" y=\"218.944766\"/>\r\n    </g>\r\n    <g clip-path=\"url(#pf94552cb8b)\">\r\n     <use style=\"fill:#b40426;stroke:#ffffff;stroke-width:0.48;\" x=\"132.199824\" xlink:href=\"#C0_0_a277bbeb03\" y=\"220.649229\"/>\r\n    </g>\r\n    <g clip-path=\"url(#pf94552cb8b)\">\r\n     <use style=\"fill:#3b4cc0;stroke:#ffffff;stroke-width:0.48;\" x=\"62.360934\" xlink:href=\"#C0_0_a277bbeb03\" y=\"164.421837\"/>\r\n    </g>\r\n    <g clip-path=\"url(#pf94552cb8b)\">\r\n     <use style=\"fill:#3b4cc0;stroke:#ffffff;stroke-width:0.48;\" x=\"61.973054\" xlink:href=\"#C0_0_a277bbeb03\" y=\"180.061238\"/>\r\n    </g>\r\n    <g clip-path=\"url(#pf94552cb8b)\">\r\n     <use style=\"fill:#3b4cc0;stroke:#ffffff;stroke-width:0.48;\" x=\"63.422502\" xlink:href=\"#C0_0_a277bbeb03\" y=\"114.531439\"/>\r\n    </g>\r\n    <g clip-path=\"url(#pf94552cb8b)\">\r\n     <use style=\"fill:#3b4cc0;stroke:#ffffff;stroke-width:0.48;\" x=\"74.52813\" xlink:href=\"#C0_0_a277bbeb03\" y=\"174.525445\"/>\r\n    </g>\r\n    <g clip-path=\"url(#pf94552cb8b)\">\r\n     <use style=\"fill:#3b4cc0;stroke:#ffffff;stroke-width:0.48;\" x=\"63.769553\" xlink:href=\"#C0_0_a277bbeb03\" y=\"174.93289\"/>\r\n    </g>\r\n    <g clip-path=\"url(#pf94552cb8b)\">\r\n     <use style=\"fill:#b40426;stroke:#ffffff;stroke-width:0.48;\" x=\"226.230202\" xlink:href=\"#C0_0_a277bbeb03\" y=\"217.97176\"/>\r\n    </g>\r\n    <g clip-path=\"url(#pf94552cb8b)\">\r\n     <use style=\"fill:#b40426;stroke:#ffffff;stroke-width:0.48;\" x=\"234.02864\" xlink:href=\"#C0_0_a277bbeb03\" y=\"216.83709\"/>\r\n    </g>\r\n    <g clip-path=\"url(#pf94552cb8b)\">\r\n     <use style=\"fill:#b40426;stroke:#ffffff;stroke-width:0.48;\" x=\"148.858267\" xlink:href=\"#C0_0_a277bbeb03\" y=\"213.941865\"/>\r\n    </g>\r\n    <g clip-path=\"url(#pf94552cb8b)\">\r\n     <use style=\"fill:#b40426;stroke:#ffffff;stroke-width:0.48;\" x=\"147.75587\" xlink:href=\"#C0_0_a277bbeb03\" y=\"215.708327\"/>\r\n    </g>\r\n    <g clip-path=\"url(#pf94552cb8b)\">\r\n     <use style=\"fill:#b40426;stroke:#ffffff;stroke-width:0.48;\" x=\"145.938956\" xlink:href=\"#C0_0_a277bbeb03\" y=\"212.315083\"/>\r\n    </g>\r\n    <g clip-path=\"url(#pf94552cb8b)\">\r\n     <use style=\"fill:#b40426;stroke:#ffffff;stroke-width:0.48;\" x=\"210.429179\" xlink:href=\"#C0_0_a277bbeb03\" y=\"224.523568\"/>\r\n    </g>\r\n    <g clip-path=\"url(#pf94552cb8b)\">\r\n     <use style=\"fill:#b40426;stroke:#ffffff;stroke-width:0.48;\" x=\"232.089237\" xlink:href=\"#C0_0_a277bbeb03\" y=\"214.845008\"/>\r\n    </g>\r\n    <g clip-path=\"url(#pf94552cb8b)\">\r\n     <use style=\"fill:#3b4cc0;stroke:#ffffff;stroke-width:0.48;\" x=\"72.85412\" xlink:href=\"#C0_0_a277bbeb03\" y=\"134.12777\"/>\r\n    </g>\r\n    <g clip-path=\"url(#pf94552cb8b)\">\r\n     <use style=\"fill:#b40426;stroke:#ffffff;stroke-width:0.48;\" x=\"130.219592\" xlink:href=\"#C0_0_a277bbeb03\" y=\"222.115139\"/>\r\n    </g>\r\n    <g clip-path=\"url(#pf94552cb8b)\">\r\n     <use style=\"fill:#3b4cc0;stroke:#ffffff;stroke-width:0.48;\" x=\"75.201817\" xlink:href=\"#C0_0_a277bbeb03\" y=\"154.221465\"/>\r\n    </g>\r\n    <g clip-path=\"url(#pf94552cb8b)\">\r\n     <use style=\"fill:#b40426;stroke:#ffffff;stroke-width:0.48;\" x=\"209.245123\" xlink:href=\"#C0_0_a277bbeb03\" y=\"224.350832\"/>\r\n    </g>\r\n    <g clip-path=\"url(#pf94552cb8b)\">\r\n     <use style=\"fill:#b40426;stroke:#ffffff;stroke-width:0.48;\" x=\"203.876041\" xlink:href=\"#C0_0_a277bbeb03\" y=\"222.97933\"/>\r\n    </g>\r\n    <g clip-path=\"url(#pf94552cb8b)\">\r\n     <use style=\"fill:#b40426;stroke:#ffffff;stroke-width:0.48;\" x=\"210.592497\" xlink:href=\"#C0_0_a277bbeb03\" y=\"225.143985\"/>\r\n    </g>\r\n    <g clip-path=\"url(#pf94552cb8b)\">\r\n     <use style=\"fill:#3b4cc0;stroke:#ffffff;stroke-width:0.48;\" x=\"62.544667\" xlink:href=\"#C0_0_a277bbeb03\" y=\"171.958257\"/>\r\n    </g>\r\n    <g clip-path=\"url(#pf94552cb8b)\">\r\n     <use style=\"fill:#dcdddd;stroke:#ffffff;stroke-width:0.48;\" x=\"61.523929\" xlink:href=\"#C0_0_a277bbeb03\" y=\"98.820328\"/>\r\n    </g>\r\n    <g clip-path=\"url(#pf94552cb8b)\">\r\n     <use style=\"fill:#3b4cc0;stroke:#ffffff;stroke-width:0.48;\" x=\"74.650619\" xlink:href=\"#C0_0_a277bbeb03\" y=\"160.968677\"/>\r\n    </g>\r\n    <g clip-path=\"url(#pf94552cb8b)\">\r\n     <use style=\"fill:#3b4cc0;stroke:#ffffff;stroke-width:0.48;\" x=\"63.810382\" xlink:href=\"#C0_0_a277bbeb03\" y=\"163.623316\"/>\r\n    </g>\r\n    <g clip-path=\"url(#pf94552cb8b)\">\r\n     <use style=\"fill:#b40426;stroke:#ffffff;stroke-width:0.48;\" x=\"89.716711\" xlink:href=\"#C0_0_a277bbeb03\" y=\"196.893614\"/>\r\n    </g>\r\n    <g clip-path=\"url(#pf94552cb8b)\">\r\n     <use style=\"fill:#3b4cc0;stroke:#ffffff;stroke-width:0.48;\" x=\"63.789967\" xlink:href=\"#C0_0_a277bbeb03\" y=\"153.030849\"/>\r\n    </g>\r\n    <g clip-path=\"url(#pf94552cb8b)\">\r\n     <use style=\"fill:#b40426;stroke:#ffffff;stroke-width:0.48;\" x=\"87.369014\" xlink:href=\"#C0_0_a277bbeb03\" y=\"207.296914\"/>\r\n    </g>\r\n    <g clip-path=\"url(#pf94552cb8b)\">\r\n     <use style=\"fill:#b40426;stroke:#ffffff;stroke-width:0.48;\" x=\"111.131793\" xlink:href=\"#C0_0_a277bbeb03\" y=\"215.617176\"/>\r\n    </g>\r\n    <g clip-path=\"url(#pf94552cb8b)\">\r\n     <use style=\"fill:#b40426;stroke:#ffffff;stroke-width:0.48;\" x=\"88.716388\" xlink:href=\"#C0_0_a277bbeb03\" y=\"212.359146\"/>\r\n    </g>\r\n    <g clip-path=\"url(#pf94552cb8b)\">\r\n     <use style=\"fill:#b40426;stroke:#ffffff;stroke-width:0.48;\" x=\"109.947737\" xlink:href=\"#C0_0_a277bbeb03\" y=\"218.715689\"/>\r\n    </g>\r\n    <g clip-path=\"url(#pf94552cb8b)\">\r\n     <use style=\"fill:#b40426;stroke:#ffffff;stroke-width:0.48;\" x=\"106.395569\" xlink:href=\"#C0_0_a277bbeb03\" y=\"212.627807\"/>\r\n    </g>\r\n    <g clip-path=\"url(#pf94552cb8b)\">\r\n     <use style=\"fill:#b40426;stroke:#ffffff;stroke-width:0.48;\" x=\"89.043024\" xlink:href=\"#C0_0_a277bbeb03\" y=\"206.066203\"/>\r\n    </g>\r\n    <g clip-path=\"url(#pf94552cb8b)\">\r\n     <use style=\"fill:#b40426;stroke:#ffffff;stroke-width:0.48;\" x=\"109.866078\" xlink:href=\"#C0_0_a277bbeb03\" y=\"218.582501\"/>\r\n    </g>\r\n   </g>\r\n   <g id=\"PathCollection_2\"/>\r\n   <g id=\"PathCollection_3\"/>\r\n   <g id=\"PathCollection_4\"/>\r\n   <g id=\"PathCollection_5\">\r\n    <defs>\r\n     <path d=\"M 0 7.071068 \r\nC 1.875269 7.071068 3.673985 6.326016 5 5 \r\nC 6.326016 3.673985 7.071068 1.875269 7.071068 0 \r\nC 7.071068 -1.875269 6.326016 -3.673985 5 -5 \r\nC 3.673985 -6.326016 1.875269 -7.071068 0 -7.071068 \r\nC -1.875269 -7.071068 -3.673985 -6.326016 -5 -5 \r\nC -6.326016 -3.673985 -7.071068 -1.875269 -7.071068 0 \r\nC -7.071068 1.875269 -6.326016 3.673985 -5 5 \r\nC -3.673985 6.326016 -1.875269 7.071068 0 7.071068 \r\nz\r\n\" id=\"m2538f0933b\" style=\"stroke:#000000;stroke-opacity:0.6;\"/>\r\n    </defs>\r\n    <g clip-path=\"url(#pf94552cb8b)\">\r\n     <use style=\"fill-opacity:0.6;stroke:#000000;stroke-opacity:0.6;\" x=\"148.245179\" xlink:href=\"#m2538f0933b\" y=\"213.975741\"/>\r\n     <use style=\"fill-opacity:0.6;stroke:#000000;stroke-opacity:0.6;\" x=\"52.900735\" xlink:href=\"#m2538f0933b\" y=\"52.19963\"/>\r\n     <use style=\"fill-opacity:0.6;stroke:#000000;stroke-opacity:0.6;\" x=\"67.283953\" xlink:href=\"#m2538f0933b\" y=\"156.252443\"/>\r\n    </g>\r\n   </g>\r\n   <g id=\"matplotlib.axis_1\">\r\n    <g id=\"xtick_1\">\r\n     <g id=\"line2d_1\">\r\n      <defs>\r\n       <path d=\"M 0 0 \r\nL 0 3.5 \r\n\" id=\"m01d603daf6\" style=\"stroke:#000000;stroke-width:0.8;\"/>\r\n      </defs>\r\n      <g>\r\n       <use style=\"stroke:#000000;stroke-width:0.8;\" x=\"63.055036\" xlink:href=\"#m01d603daf6\" y=\"235.238438\"/>\r\n      </g>\r\n     </g>\r\n     <g id=\"text_1\">\r\n      <!-- 20 -->\r\n      <g transform=\"translate(56.692536 249.836875)scale(0.1 -0.1)\">\r\n       <defs>\r\n        <path d=\"M 19.1875 8.296875 \r\nL 53.609375 8.296875 \r\nL 53.609375 0 \r\nL 7.328125 0 \r\nL 7.328125 8.296875 \r\nQ 12.9375 14.109375 22.625 23.890625 \r\nQ 32.328125 33.6875 34.8125 36.53125 \r\nQ 39.546875 41.84375 41.421875 45.53125 \r\nQ 43.3125 49.21875 43.3125 52.78125 \r\nQ 43.3125 58.59375 39.234375 62.25 \r\nQ 35.15625 65.921875 28.609375 65.921875 \r\nQ 23.96875 65.921875 18.8125 64.3125 \r\nQ 13.671875 62.703125 7.8125 59.421875 \r\nL 7.8125 69.390625 \r\nQ 13.765625 71.78125 18.9375 73 \r\nQ 24.125 74.21875 28.421875 74.21875 \r\nQ 39.75 74.21875 46.484375 68.546875 \r\nQ 53.21875 62.890625 53.21875 53.421875 \r\nQ 53.21875 48.921875 51.53125 44.890625 \r\nQ 49.859375 40.875 45.40625 35.40625 \r\nQ 44.1875 33.984375 37.640625 27.21875 \r\nQ 31.109375 20.453125 19.1875 8.296875 \r\nz\r\n\" id=\"DejaVuSans-50\"/>\r\n        <path d=\"M 31.78125 66.40625 \r\nQ 24.171875 66.40625 20.328125 58.90625 \r\nQ 16.5 51.421875 16.5 36.375 \r\nQ 16.5 21.390625 20.328125 13.890625 \r\nQ 24.171875 6.390625 31.78125 6.390625 \r\nQ 39.453125 6.390625 43.28125 13.890625 \r\nQ 47.125 21.390625 47.125 36.375 \r\nQ 47.125 51.421875 43.28125 58.90625 \r\nQ 39.453125 66.40625 31.78125 66.40625 \r\nz\r\nM 31.78125 74.21875 \r\nQ 44.046875 74.21875 50.515625 64.515625 \r\nQ 56.984375 54.828125 56.984375 36.375 \r\nQ 56.984375 17.96875 50.515625 8.265625 \r\nQ 44.046875 -1.421875 31.78125 -1.421875 \r\nQ 19.53125 -1.421875 13.0625 8.265625 \r\nQ 6.59375 17.96875 6.59375 36.375 \r\nQ 6.59375 54.828125 13.0625 64.515625 \r\nQ 19.53125 74.21875 31.78125 74.21875 \r\nz\r\n\" id=\"DejaVuSans-48\"/>\r\n       </defs>\r\n       <use xlink:href=\"#DejaVuSans-50\"/>\r\n       <use x=\"63.623047\" xlink:href=\"#DejaVuSans-48\"/>\r\n      </g>\r\n     </g>\r\n    </g>\r\n    <g id=\"xtick_2\">\r\n     <g id=\"line2d_2\">\r\n      <g>\r\n       <use style=\"stroke:#000000;stroke-width:0.8;\" x=\"103.884553\" xlink:href=\"#m01d603daf6\" y=\"235.238438\"/>\r\n      </g>\r\n     </g>\r\n     <g id=\"text_2\">\r\n      <!-- 40 -->\r\n      <g transform=\"translate(97.522053 249.836875)scale(0.1 -0.1)\">\r\n       <defs>\r\n        <path d=\"M 37.796875 64.3125 \r\nL 12.890625 25.390625 \r\nL 37.796875 25.390625 \r\nz\r\nM 35.203125 72.90625 \r\nL 47.609375 72.90625 \r\nL 47.609375 25.390625 \r\nL 58.015625 25.390625 \r\nL 58.015625 17.1875 \r\nL 47.609375 17.1875 \r\nL 47.609375 0 \r\nL 37.796875 0 \r\nL 37.796875 17.1875 \r\nL 4.890625 17.1875 \r\nL 4.890625 26.703125 \r\nz\r\n\" id=\"DejaVuSans-52\"/>\r\n       </defs>\r\n       <use xlink:href=\"#DejaVuSans-52\"/>\r\n       <use x=\"63.623047\" xlink:href=\"#DejaVuSans-48\"/>\r\n      </g>\r\n     </g>\r\n    </g>\r\n    <g id=\"xtick_3\">\r\n     <g id=\"line2d_3\">\r\n      <g>\r\n       <use style=\"stroke:#000000;stroke-width:0.8;\" x=\"144.714071\" xlink:href=\"#m01d603daf6\" y=\"235.238438\"/>\r\n      </g>\r\n     </g>\r\n     <g id=\"text_3\">\r\n      <!-- 60 -->\r\n      <g transform=\"translate(138.351571 249.836875)scale(0.1 -0.1)\">\r\n       <defs>\r\n        <path d=\"M 33.015625 40.375 \r\nQ 26.375 40.375 22.484375 35.828125 \r\nQ 18.609375 31.296875 18.609375 23.390625 \r\nQ 18.609375 15.53125 22.484375 10.953125 \r\nQ 26.375 6.390625 33.015625 6.390625 \r\nQ 39.65625 6.390625 43.53125 10.953125 \r\nQ 47.40625 15.53125 47.40625 23.390625 \r\nQ 47.40625 31.296875 43.53125 35.828125 \r\nQ 39.65625 40.375 33.015625 40.375 \r\nz\r\nM 52.59375 71.296875 \r\nL 52.59375 62.3125 \r\nQ 48.875 64.0625 45.09375 64.984375 \r\nQ 41.3125 65.921875 37.59375 65.921875 \r\nQ 27.828125 65.921875 22.671875 59.328125 \r\nQ 17.53125 52.734375 16.796875 39.40625 \r\nQ 19.671875 43.65625 24.015625 45.921875 \r\nQ 28.375 48.1875 33.59375 48.1875 \r\nQ 44.578125 48.1875 50.953125 41.515625 \r\nQ 57.328125 34.859375 57.328125 23.390625 \r\nQ 57.328125 12.15625 50.6875 5.359375 \r\nQ 44.046875 -1.421875 33.015625 -1.421875 \r\nQ 20.359375 -1.421875 13.671875 8.265625 \r\nQ 6.984375 17.96875 6.984375 36.375 \r\nQ 6.984375 53.65625 15.1875 63.9375 \r\nQ 23.390625 74.21875 37.203125 74.21875 \r\nQ 40.921875 74.21875 44.703125 73.484375 \r\nQ 48.484375 72.75 52.59375 71.296875 \r\nz\r\n\" id=\"DejaVuSans-54\"/>\r\n       </defs>\r\n       <use xlink:href=\"#DejaVuSans-54\"/>\r\n       <use x=\"63.623047\" xlink:href=\"#DejaVuSans-48\"/>\r\n      </g>\r\n     </g>\r\n    </g>\r\n    <g id=\"xtick_4\">\r\n     <g id=\"line2d_4\">\r\n      <g>\r\n       <use style=\"stroke:#000000;stroke-width:0.8;\" x=\"185.543588\" xlink:href=\"#m01d603daf6\" y=\"235.238438\"/>\r\n      </g>\r\n     </g>\r\n     <g id=\"text_4\">\r\n      <!-- 80 -->\r\n      <g transform=\"translate(179.181088 249.836875)scale(0.1 -0.1)\">\r\n       <defs>\r\n        <path d=\"M 31.78125 34.625 \r\nQ 24.75 34.625 20.71875 30.859375 \r\nQ 16.703125 27.09375 16.703125 20.515625 \r\nQ 16.703125 13.921875 20.71875 10.15625 \r\nQ 24.75 6.390625 31.78125 6.390625 \r\nQ 38.8125 6.390625 42.859375 10.171875 \r\nQ 46.921875 13.96875 46.921875 20.515625 \r\nQ 46.921875 27.09375 42.890625 30.859375 \r\nQ 38.875 34.625 31.78125 34.625 \r\nz\r\nM 21.921875 38.8125 \r\nQ 15.578125 40.375 12.03125 44.71875 \r\nQ 8.5 49.078125 8.5 55.328125 \r\nQ 8.5 64.0625 14.71875 69.140625 \r\nQ 20.953125 74.21875 31.78125 74.21875 \r\nQ 42.671875 74.21875 48.875 69.140625 \r\nQ 55.078125 64.0625 55.078125 55.328125 \r\nQ 55.078125 49.078125 51.53125 44.71875 \r\nQ 48 40.375 41.703125 38.8125 \r\nQ 48.828125 37.15625 52.796875 32.3125 \r\nQ 56.78125 27.484375 56.78125 20.515625 \r\nQ 56.78125 9.90625 50.3125 4.234375 \r\nQ 43.84375 -1.421875 31.78125 -1.421875 \r\nQ 19.734375 -1.421875 13.25 4.234375 \r\nQ 6.78125 9.90625 6.78125 20.515625 \r\nQ 6.78125 27.484375 10.78125 32.3125 \r\nQ 14.796875 37.15625 21.921875 38.8125 \r\nz\r\nM 18.3125 54.390625 \r\nQ 18.3125 48.734375 21.84375 45.5625 \r\nQ 25.390625 42.390625 31.78125 42.390625 \r\nQ 38.140625 42.390625 41.71875 45.5625 \r\nQ 45.3125 48.734375 45.3125 54.390625 \r\nQ 45.3125 60.0625 41.71875 63.234375 \r\nQ 38.140625 66.40625 31.78125 66.40625 \r\nQ 25.390625 66.40625 21.84375 63.234375 \r\nQ 18.3125 60.0625 18.3125 54.390625 \r\nz\r\n\" id=\"DejaVuSans-56\"/>\r\n       </defs>\r\n       <use xlink:href=\"#DejaVuSans-56\"/>\r\n       <use x=\"63.623047\" xlink:href=\"#DejaVuSans-48\"/>\r\n      </g>\r\n     </g>\r\n    </g>\r\n    <g id=\"xtick_5\">\r\n     <g id=\"line2d_5\">\r\n      <g>\r\n       <use style=\"stroke:#000000;stroke-width:0.8;\" x=\"226.373105\" xlink:href=\"#m01d603daf6\" y=\"235.238438\"/>\r\n      </g>\r\n     </g>\r\n     <g id=\"text_5\">\r\n      <!-- 100 -->\r\n      <g transform=\"translate(216.829355 249.836875)scale(0.1 -0.1)\">\r\n       <defs>\r\n        <path d=\"M 12.40625 8.296875 \r\nL 28.515625 8.296875 \r\nL 28.515625 63.921875 \r\nL 10.984375 60.40625 \r\nL 10.984375 69.390625 \r\nL 28.421875 72.90625 \r\nL 38.28125 72.90625 \r\nL 38.28125 8.296875 \r\nL 54.390625 8.296875 \r\nL 54.390625 0 \r\nL 12.40625 0 \r\nz\r\n\" id=\"DejaVuSans-49\"/>\r\n       </defs>\r\n       <use xlink:href=\"#DejaVuSans-49\"/>\r\n       <use x=\"63.623047\" xlink:href=\"#DejaVuSans-48\"/>\r\n       <use x=\"127.246094\" xlink:href=\"#DejaVuSans-48\"/>\r\n      </g>\r\n     </g>\r\n    </g>\r\n    <g id=\"xtick_6\">\r\n     <g id=\"line2d_6\">\r\n      <g>\r\n       <use style=\"stroke:#000000;stroke-width:0.8;\" x=\"267.202622\" xlink:href=\"#m01d603daf6\" y=\"235.238438\"/>\r\n      </g>\r\n     </g>\r\n     <g id=\"text_6\">\r\n      <!-- 120 -->\r\n      <g transform=\"translate(257.658872 249.836875)scale(0.1 -0.1)\">\r\n       <use xlink:href=\"#DejaVuSans-49\"/>\r\n       <use x=\"63.623047\" xlink:href=\"#DejaVuSans-50\"/>\r\n       <use x=\"127.246094\" xlink:href=\"#DejaVuSans-48\"/>\r\n      </g>\r\n     </g>\r\n    </g>\r\n    <g id=\"xtick_7\">\r\n     <g id=\"line2d_7\">\r\n      <g>\r\n       <use style=\"stroke:#000000;stroke-width:0.8;\" x=\"308.03214\" xlink:href=\"#m01d603daf6\" y=\"235.238438\"/>\r\n      </g>\r\n     </g>\r\n     <g id=\"text_7\">\r\n      <!-- 140 -->\r\n      <g transform=\"translate(298.48839 249.836875)scale(0.1 -0.1)\">\r\n       <use xlink:href=\"#DejaVuSans-49\"/>\r\n       <use x=\"63.623047\" xlink:href=\"#DejaVuSans-52\"/>\r\n       <use x=\"127.246094\" xlink:href=\"#DejaVuSans-48\"/>\r\n      </g>\r\n     </g>\r\n    </g>\r\n    <g id=\"xtick_8\">\r\n     <g id=\"line2d_8\">\r\n      <g>\r\n       <use style=\"stroke:#000000;stroke-width:0.8;\" x=\"348.861657\" xlink:href=\"#m01d603daf6\" y=\"235.238438\"/>\r\n      </g>\r\n     </g>\r\n     <g id=\"text_8\">\r\n      <!-- 160 -->\r\n      <g transform=\"translate(339.317907 249.836875)scale(0.1 -0.1)\">\r\n       <use xlink:href=\"#DejaVuSans-49\"/>\r\n       <use x=\"63.623047\" xlink:href=\"#DejaVuSans-54\"/>\r\n       <use x=\"127.246094\" xlink:href=\"#DejaVuSans-48\"/>\r\n      </g>\r\n     </g>\r\n    </g>\r\n    <g id=\"text_9\">\r\n     <!-- close -->\r\n     <g transform=\"translate(188.761719 263.515)scale(0.1 -0.1)\">\r\n      <defs>\r\n       <path d=\"M 48.78125 52.59375 \r\nL 48.78125 44.1875 \r\nQ 44.96875 46.296875 41.140625 47.34375 \r\nQ 37.3125 48.390625 33.40625 48.390625 \r\nQ 24.65625 48.390625 19.8125 42.84375 \r\nQ 14.984375 37.3125 14.984375 27.296875 \r\nQ 14.984375 17.28125 19.8125 11.734375 \r\nQ 24.65625 6.203125 33.40625 6.203125 \r\nQ 37.3125 6.203125 41.140625 7.25 \r\nQ 44.96875 8.296875 48.78125 10.40625 \r\nL 48.78125 2.09375 \r\nQ 45.015625 0.34375 40.984375 -0.53125 \r\nQ 36.96875 -1.421875 32.421875 -1.421875 \r\nQ 20.0625 -1.421875 12.78125 6.34375 \r\nQ 5.515625 14.109375 5.515625 27.296875 \r\nQ 5.515625 40.671875 12.859375 48.328125 \r\nQ 20.21875 56 33.015625 56 \r\nQ 37.15625 56 41.109375 55.140625 \r\nQ 45.0625 54.296875 48.78125 52.59375 \r\nz\r\n\" id=\"DejaVuSans-99\"/>\r\n       <path d=\"M 9.421875 75.984375 \r\nL 18.40625 75.984375 \r\nL 18.40625 0 \r\nL 9.421875 0 \r\nz\r\n\" id=\"DejaVuSans-108\"/>\r\n       <path d=\"M 30.609375 48.390625 \r\nQ 23.390625 48.390625 19.1875 42.75 \r\nQ 14.984375 37.109375 14.984375 27.296875 \r\nQ 14.984375 17.484375 19.15625 11.84375 \r\nQ 23.34375 6.203125 30.609375 6.203125 \r\nQ 37.796875 6.203125 41.984375 11.859375 \r\nQ 46.1875 17.53125 46.1875 27.296875 \r\nQ 46.1875 37.015625 41.984375 42.703125 \r\nQ 37.796875 48.390625 30.609375 48.390625 \r\nz\r\nM 30.609375 56 \r\nQ 42.328125 56 49.015625 48.375 \r\nQ 55.71875 40.765625 55.71875 27.296875 \r\nQ 55.71875 13.875 49.015625 6.21875 \r\nQ 42.328125 -1.421875 30.609375 -1.421875 \r\nQ 18.84375 -1.421875 12.171875 6.21875 \r\nQ 5.515625 13.875 5.515625 27.296875 \r\nQ 5.515625 40.765625 12.171875 48.375 \r\nQ 18.84375 56 30.609375 56 \r\nz\r\n\" id=\"DejaVuSans-111\"/>\r\n       <path d=\"M 44.28125 53.078125 \r\nL 44.28125 44.578125 \r\nQ 40.484375 46.53125 36.375 47.5 \r\nQ 32.28125 48.484375 27.875 48.484375 \r\nQ 21.1875 48.484375 17.84375 46.4375 \r\nQ 14.5 44.390625 14.5 40.28125 \r\nQ 14.5 37.15625 16.890625 35.375 \r\nQ 19.28125 33.59375 26.515625 31.984375 \r\nL 29.59375 31.296875 \r\nQ 39.15625 29.25 43.1875 25.515625 \r\nQ 47.21875 21.78125 47.21875 15.09375 \r\nQ 47.21875 7.46875 41.1875 3.015625 \r\nQ 35.15625 -1.421875 24.609375 -1.421875 \r\nQ 20.21875 -1.421875 15.453125 -0.5625 \r\nQ 10.6875 0.296875 5.421875 2 \r\nL 5.421875 11.28125 \r\nQ 10.40625 8.6875 15.234375 7.390625 \r\nQ 20.0625 6.109375 24.8125 6.109375 \r\nQ 31.15625 6.109375 34.5625 8.28125 \r\nQ 37.984375 10.453125 37.984375 14.40625 \r\nQ 37.984375 18.0625 35.515625 20.015625 \r\nQ 33.0625 21.96875 24.703125 23.78125 \r\nL 21.578125 24.515625 \r\nQ 13.234375 26.265625 9.515625 29.90625 \r\nQ 5.8125 33.546875 5.8125 39.890625 \r\nQ 5.8125 47.609375 11.28125 51.796875 \r\nQ 16.75 56 26.8125 56 \r\nQ 31.78125 56 36.171875 55.265625 \r\nQ 40.578125 54.546875 44.28125 53.078125 \r\nz\r\n\" id=\"DejaVuSans-115\"/>\r\n       <path d=\"M 56.203125 29.59375 \r\nL 56.203125 25.203125 \r\nL 14.890625 25.203125 \r\nQ 15.484375 15.921875 20.484375 11.0625 \r\nQ 25.484375 6.203125 34.421875 6.203125 \r\nQ 39.59375 6.203125 44.453125 7.46875 \r\nQ 49.3125 8.734375 54.109375 11.28125 \r\nL 54.109375 2.78125 \r\nQ 49.265625 0.734375 44.1875 -0.34375 \r\nQ 39.109375 -1.421875 33.890625 -1.421875 \r\nQ 20.796875 -1.421875 13.15625 6.1875 \r\nQ 5.515625 13.8125 5.515625 26.8125 \r\nQ 5.515625 40.234375 12.765625 48.109375 \r\nQ 20.015625 56 32.328125 56 \r\nQ 43.359375 56 49.78125 48.890625 \r\nQ 56.203125 41.796875 56.203125 29.59375 \r\nz\r\nM 47.21875 32.234375 \r\nQ 47.125 39.59375 43.09375 43.984375 \r\nQ 39.0625 48.390625 32.421875 48.390625 \r\nQ 24.90625 48.390625 20.390625 44.140625 \r\nQ 15.875 39.890625 15.1875 32.171875 \r\nz\r\n\" id=\"DejaVuSans-101\"/>\r\n      </defs>\r\n      <use xlink:href=\"#DejaVuSans-99\"/>\r\n      <use x=\"54.980469\" xlink:href=\"#DejaVuSans-108\"/>\r\n      <use x=\"82.763672\" xlink:href=\"#DejaVuSans-111\"/>\r\n      <use x=\"143.945312\" xlink:href=\"#DejaVuSans-115\"/>\r\n      <use x=\"196.044922\" xlink:href=\"#DejaVuSans-101\"/>\r\n     </g>\r\n    </g>\r\n   </g>\r\n   <g id=\"matplotlib.axis_2\">\r\n    <g id=\"ytick_1\">\r\n     <g id=\"line2d_9\">\r\n      <defs>\r\n       <path d=\"M 0 0 \r\nL -3.5 0 \r\n\" id=\"m4bbac49255\" style=\"stroke:#000000;stroke-width:0.8;\"/>\r\n      </defs>\r\n      <g>\r\n       <use style=\"stroke:#000000;stroke-width:0.8;\" x=\"34.240625\" xlink:href=\"#m4bbac49255\" y=\"228.884727\"/>\r\n      </g>\r\n     </g>\r\n     <g id=\"text_10\">\r\n      <!-- 0 -->\r\n      <g transform=\"translate(20.878125 232.683945)scale(0.1 -0.1)\">\r\n       <use xlink:href=\"#DejaVuSans-48\"/>\r\n      </g>\r\n     </g>\r\n    </g>\r\n    <g id=\"ytick_2\">\r\n     <g id=\"line2d_10\">\r\n      <g>\r\n       <use style=\"stroke:#000000;stroke-width:0.8;\" x=\"34.240625\" xlink:href=\"#m4bbac49255\" y=\"203.897148\"/>\r\n      </g>\r\n     </g>\r\n     <g id=\"text_11\">\r\n      <!-- 1 -->\r\n      <g transform=\"translate(20.878125 207.696367)scale(0.1 -0.1)\">\r\n       <use xlink:href=\"#DejaVuSans-49\"/>\r\n      </g>\r\n     </g>\r\n    </g>\r\n    <g id=\"ytick_3\">\r\n     <g id=\"line2d_11\">\r\n      <g>\r\n       <use style=\"stroke:#000000;stroke-width:0.8;\" x=\"34.240625\" xlink:href=\"#m4bbac49255\" y=\"178.90957\"/>\r\n      </g>\r\n     </g>\r\n     <g id=\"text_12\">\r\n      <!-- 2 -->\r\n      <g transform=\"translate(20.878125 182.708788)scale(0.1 -0.1)\">\r\n       <use xlink:href=\"#DejaVuSans-50\"/>\r\n      </g>\r\n     </g>\r\n    </g>\r\n    <g id=\"ytick_4\">\r\n     <g id=\"line2d_12\">\r\n      <g>\r\n       <use style=\"stroke:#000000;stroke-width:0.8;\" x=\"34.240625\" xlink:href=\"#m4bbac49255\" y=\"153.921991\"/>\r\n      </g>\r\n     </g>\r\n     <g id=\"text_13\">\r\n      <!-- 3 -->\r\n      <g transform=\"translate(20.878125 157.72121)scale(0.1 -0.1)\">\r\n       <defs>\r\n        <path d=\"M 40.578125 39.3125 \r\nQ 47.65625 37.796875 51.625 33 \r\nQ 55.609375 28.21875 55.609375 21.1875 \r\nQ 55.609375 10.40625 48.1875 4.484375 \r\nQ 40.765625 -1.421875 27.09375 -1.421875 \r\nQ 22.515625 -1.421875 17.65625 -0.515625 \r\nQ 12.796875 0.390625 7.625 2.203125 \r\nL 7.625 11.71875 \r\nQ 11.71875 9.328125 16.59375 8.109375 \r\nQ 21.484375 6.890625 26.8125 6.890625 \r\nQ 36.078125 6.890625 40.9375 10.546875 \r\nQ 45.796875 14.203125 45.796875 21.1875 \r\nQ 45.796875 27.640625 41.28125 31.265625 \r\nQ 36.765625 34.90625 28.71875 34.90625 \r\nL 20.21875 34.90625 \r\nL 20.21875 43.015625 \r\nL 29.109375 43.015625 \r\nQ 36.375 43.015625 40.234375 45.921875 \r\nQ 44.09375 48.828125 44.09375 54.296875 \r\nQ 44.09375 59.90625 40.109375 62.90625 \r\nQ 36.140625 65.921875 28.71875 65.921875 \r\nQ 24.65625 65.921875 20.015625 65.03125 \r\nQ 15.375 64.15625 9.8125 62.3125 \r\nL 9.8125 71.09375 \r\nQ 15.4375 72.65625 20.34375 73.4375 \r\nQ 25.25 74.21875 29.59375 74.21875 \r\nQ 40.828125 74.21875 47.359375 69.109375 \r\nQ 53.90625 64.015625 53.90625 55.328125 \r\nQ 53.90625 49.265625 50.4375 45.09375 \r\nQ 46.96875 40.921875 40.578125 39.3125 \r\nz\r\n\" id=\"DejaVuSans-51\"/>\r\n       </defs>\r\n       <use xlink:href=\"#DejaVuSans-51\"/>\r\n      </g>\r\n     </g>\r\n    </g>\r\n    <g id=\"ytick_5\">\r\n     <g id=\"line2d_13\">\r\n      <g>\r\n       <use style=\"stroke:#000000;stroke-width:0.8;\" x=\"34.240625\" xlink:href=\"#m4bbac49255\" y=\"128.934413\"/>\r\n      </g>\r\n     </g>\r\n     <g id=\"text_14\">\r\n      <!-- 4 -->\r\n      <g transform=\"translate(20.878125 132.733631)scale(0.1 -0.1)\">\r\n       <use xlink:href=\"#DejaVuSans-52\"/>\r\n      </g>\r\n     </g>\r\n    </g>\r\n    <g id=\"ytick_6\">\r\n     <g id=\"line2d_14\">\r\n      <g>\r\n       <use style=\"stroke:#000000;stroke-width:0.8;\" x=\"34.240625\" xlink:href=\"#m4bbac49255\" y=\"103.946834\"/>\r\n      </g>\r\n     </g>\r\n     <g id=\"text_15\">\r\n      <!-- 5 -->\r\n      <g transform=\"translate(20.878125 107.746053)scale(0.1 -0.1)\">\r\n       <defs>\r\n        <path d=\"M 10.796875 72.90625 \r\nL 49.515625 72.90625 \r\nL 49.515625 64.59375 \r\nL 19.828125 64.59375 \r\nL 19.828125 46.734375 \r\nQ 21.96875 47.46875 24.109375 47.828125 \r\nQ 26.265625 48.1875 28.421875 48.1875 \r\nQ 40.625 48.1875 47.75 41.5 \r\nQ 54.890625 34.8125 54.890625 23.390625 \r\nQ 54.890625 11.625 47.5625 5.09375 \r\nQ 40.234375 -1.421875 26.90625 -1.421875 \r\nQ 22.3125 -1.421875 17.546875 -0.640625 \r\nQ 12.796875 0.140625 7.71875 1.703125 \r\nL 7.71875 11.625 \r\nQ 12.109375 9.234375 16.796875 8.0625 \r\nQ 21.484375 6.890625 26.703125 6.890625 \r\nQ 35.15625 6.890625 40.078125 11.328125 \r\nQ 45.015625 15.765625 45.015625 23.390625 \r\nQ 45.015625 31 40.078125 35.4375 \r\nQ 35.15625 39.890625 26.703125 39.890625 \r\nQ 22.75 39.890625 18.8125 39.015625 \r\nQ 14.890625 38.140625 10.796875 36.28125 \r\nz\r\n\" id=\"DejaVuSans-53\"/>\r\n       </defs>\r\n       <use xlink:href=\"#DejaVuSans-53\"/>\r\n      </g>\r\n     </g>\r\n    </g>\r\n    <g id=\"ytick_7\">\r\n     <g id=\"line2d_15\">\r\n      <g>\r\n       <use style=\"stroke:#000000;stroke-width:0.8;\" x=\"34.240625\" xlink:href=\"#m4bbac49255\" y=\"78.959256\"/>\r\n      </g>\r\n     </g>\r\n     <g id=\"text_16\">\r\n      <!-- 6 -->\r\n      <g transform=\"translate(20.878125 82.758474)scale(0.1 -0.1)\">\r\n       <use xlink:href=\"#DejaVuSans-54\"/>\r\n      </g>\r\n     </g>\r\n    </g>\r\n    <g id=\"ytick_8\">\r\n     <g id=\"line2d_16\">\r\n      <g>\r\n       <use style=\"stroke:#000000;stroke-width:0.8;\" x=\"34.240625\" xlink:href=\"#m4bbac49255\" y=\"53.971677\"/>\r\n      </g>\r\n     </g>\r\n     <g id=\"text_17\">\r\n      <!-- 7 -->\r\n      <g transform=\"translate(20.878125 57.770896)scale(0.1 -0.1)\">\r\n       <defs>\r\n        <path d=\"M 8.203125 72.90625 \r\nL 55.078125 72.90625 \r\nL 55.078125 68.703125 \r\nL 28.609375 0 \r\nL 18.3125 0 \r\nL 43.21875 64.59375 \r\nL 8.203125 64.59375 \r\nz\r\n\" id=\"DejaVuSans-55\"/>\r\n       </defs>\r\n       <use xlink:href=\"#DejaVuSans-55\"/>\r\n      </g>\r\n     </g>\r\n    </g>\r\n    <g id=\"ytick_9\">\r\n     <g id=\"line2d_17\">\r\n      <g>\r\n       <use style=\"stroke:#000000;stroke-width:0.8;\" x=\"34.240625\" xlink:href=\"#m4bbac49255\" y=\"28.984099\"/>\r\n      </g>\r\n     </g>\r\n     <g id=\"text_18\">\r\n      <!-- 8 -->\r\n      <g transform=\"translate(20.878125 32.783317)scale(0.1 -0.1)\">\r\n       <use xlink:href=\"#DejaVuSans-56\"/>\r\n      </g>\r\n     </g>\r\n    </g>\r\n    <g id=\"text_19\">\r\n     <!-- volume -->\r\n     <g transform=\"translate(14.798437 145.041875)rotate(-90)scale(0.1 -0.1)\">\r\n      <defs>\r\n       <path d=\"M 2.984375 54.6875 \r\nL 12.5 54.6875 \r\nL 29.59375 8.796875 \r\nL 46.6875 54.6875 \r\nL 56.203125 54.6875 \r\nL 35.6875 0 \r\nL 23.484375 0 \r\nz\r\n\" id=\"DejaVuSans-118\"/>\r\n       <path d=\"M 8.5 21.578125 \r\nL 8.5 54.6875 \r\nL 17.484375 54.6875 \r\nL 17.484375 21.921875 \r\nQ 17.484375 14.15625 20.5 10.265625 \r\nQ 23.53125 6.390625 29.59375 6.390625 \r\nQ 36.859375 6.390625 41.078125 11.03125 \r\nQ 45.3125 15.671875 45.3125 23.6875 \r\nL 45.3125 54.6875 \r\nL 54.296875 54.6875 \r\nL 54.296875 0 \r\nL 45.3125 0 \r\nL 45.3125 8.40625 \r\nQ 42.046875 3.421875 37.71875 1 \r\nQ 33.40625 -1.421875 27.6875 -1.421875 \r\nQ 18.265625 -1.421875 13.375 4.4375 \r\nQ 8.5 10.296875 8.5 21.578125 \r\nz\r\nM 31.109375 56 \r\nz\r\n\" id=\"DejaVuSans-117\"/>\r\n       <path d=\"M 52 44.1875 \r\nQ 55.375 50.25 60.0625 53.125 \r\nQ 64.75 56 71.09375 56 \r\nQ 79.640625 56 84.28125 50.015625 \r\nQ 88.921875 44.046875 88.921875 33.015625 \r\nL 88.921875 0 \r\nL 79.890625 0 \r\nL 79.890625 32.71875 \r\nQ 79.890625 40.578125 77.09375 44.375 \r\nQ 74.3125 48.1875 68.609375 48.1875 \r\nQ 61.625 48.1875 57.5625 43.546875 \r\nQ 53.515625 38.921875 53.515625 30.90625 \r\nL 53.515625 0 \r\nL 44.484375 0 \r\nL 44.484375 32.71875 \r\nQ 44.484375 40.625 41.703125 44.40625 \r\nQ 38.921875 48.1875 33.109375 48.1875 \r\nQ 26.21875 48.1875 22.15625 43.53125 \r\nQ 18.109375 38.875 18.109375 30.90625 \r\nL 18.109375 0 \r\nL 9.078125 0 \r\nL 9.078125 54.6875 \r\nL 18.109375 54.6875 \r\nL 18.109375 46.1875 \r\nQ 21.1875 51.21875 25.484375 53.609375 \r\nQ 29.78125 56 35.6875 56 \r\nQ 41.65625 56 45.828125 52.96875 \r\nQ 50 49.953125 52 44.1875 \r\nz\r\n\" id=\"DejaVuSans-109\"/>\r\n      </defs>\r\n      <use xlink:href=\"#DejaVuSans-118\"/>\r\n      <use x=\"59.179688\" xlink:href=\"#DejaVuSans-111\"/>\r\n      <use x=\"120.361328\" xlink:href=\"#DejaVuSans-108\"/>\r\n      <use x=\"148.144531\" xlink:href=\"#DejaVuSans-117\"/>\r\n      <use x=\"211.523438\" xlink:href=\"#DejaVuSans-109\"/>\r\n      <use x=\"308.935547\" xlink:href=\"#DejaVuSans-101\"/>\r\n     </g>\r\n    </g>\r\n    <g id=\"text_20\">\r\n     <!-- 1e8 -->\r\n     <g transform=\"translate(34.240625 14.798437)scale(0.1 -0.1)\">\r\n      <use xlink:href=\"#DejaVuSans-49\"/>\r\n      <use x=\"63.623047\" xlink:href=\"#DejaVuSans-101\"/>\r\n      <use x=\"125.146484\" xlink:href=\"#DejaVuSans-56\"/>\r\n     </g>\r\n    </g>\r\n   </g>\r\n   <g id=\"patch_3\">\r\n    <path d=\"M 34.240625 235.238438 \r\nL 34.240625 17.798438 \r\n\" style=\"fill:none;stroke:#000000;stroke-linecap:square;stroke-linejoin:miter;stroke-width:0.8;\"/>\r\n   </g>\r\n   <g id=\"patch_4\">\r\n    <path d=\"M 369.040625 235.238438 \r\nL 369.040625 17.798438 \r\n\" style=\"fill:none;stroke:#000000;stroke-linecap:square;stroke-linejoin:miter;stroke-width:0.8;\"/>\r\n   </g>\r\n   <g id=\"patch_5\">\r\n    <path d=\"M 34.240625 235.238438 \r\nL 369.040625 235.238438 \r\n\" style=\"fill:none;stroke:#000000;stroke-linecap:square;stroke-linejoin:miter;stroke-width:0.8;\"/>\r\n   </g>\r\n   <g id=\"patch_6\">\r\n    <path d=\"M 34.240625 17.798438 \r\nL 369.040625 17.798438 \r\n\" style=\"fill:none;stroke:#000000;stroke-linecap:square;stroke-linejoin:miter;stroke-width:0.8;\"/>\r\n   </g>\r\n   <g id=\"legend_1\">\r\n    <g id=\"patch_7\">\r\n     <path d=\"M 323.678125 69.832813 \r\nL 362.040625 69.832813 \r\nQ 364.040625 69.832813 364.040625 67.832813 \r\nL 364.040625 24.798438 \r\nQ 364.040625 22.798438 362.040625 22.798438 \r\nL 323.678125 22.798438 \r\nQ 321.678125 22.798438 321.678125 24.798438 \r\nL 321.678125 67.832813 \r\nQ 321.678125 69.832813 323.678125 69.832813 \r\nz\r\n\" style=\"fill:#ffffff;opacity:0.8;stroke:#cccccc;stroke-linejoin:miter;\"/>\r\n    </g>\r\n    <g id=\"PathCollection_6\">\r\n     <defs>\r\n      <path d=\"M 0 3 \r\nC 0.795609 3 1.55874 2.683901 2.12132 2.12132 \r\nC 2.683901 1.55874 3 0.795609 3 0 \r\nC 3 -0.795609 2.683901 -1.55874 2.12132 -2.12132 \r\nC 1.55874 -2.683901 0.795609 -3 0 -3 \r\nC -0.795609 -3 -1.55874 -2.683901 -2.12132 -2.12132 \r\nC -2.683901 -1.55874 -3 -0.795609 -3 0 \r\nC -3 0.795609 -2.683901 1.55874 -2.12132 2.12132 \r\nC -1.55874 2.683901 -0.795609 3 0 3 \r\nz\r\n\" id=\"m9f43c77dbe\" style=\"stroke:#b40426;\"/>\r\n     </defs>\r\n     <g>\r\n      <use style=\"fill:#b40426;stroke:#b40426;\" x=\"335.678125\" xlink:href=\"#m9f43c77dbe\" y=\"31.771875\"/>\r\n     </g>\r\n    </g>\r\n    <g id=\"text_21\">\r\n     <!-- 0 -->\r\n     <g transform=\"translate(353.678125 34.396875)scale(0.1 -0.1)\">\r\n      <use xlink:href=\"#DejaVuSans-48\"/>\r\n     </g>\r\n    </g>\r\n    <g id=\"PathCollection_7\">\r\n     <defs>\r\n      <path d=\"M 0 3 \r\nC 0.795609 3 1.55874 2.683901 2.12132 2.12132 \r\nC 2.683901 1.55874 3 0.795609 3 0 \r\nC 3 -0.795609 2.683901 -1.55874 2.12132 -2.12132 \r\nC 1.55874 -2.683901 0.795609 -3 0 -3 \r\nC -0.795609 -3 -1.55874 -2.683901 -2.12132 -2.12132 \r\nC -2.683901 -1.55874 -3 -0.795609 -3 0 \r\nC -3 0.795609 -2.683901 1.55874 -2.12132 2.12132 \r\nC -1.55874 2.683901 -0.795609 3 0 3 \r\nz\r\n\" id=\"m3a2ac6e23e\" style=\"stroke:#dcdddd;\"/>\r\n     </defs>\r\n     <g>\r\n      <use style=\"fill:#dcdddd;stroke:#dcdddd;\" x=\"335.678125\" xlink:href=\"#m3a2ac6e23e\" y=\"46.45\"/>\r\n     </g>\r\n    </g>\r\n    <g id=\"text_22\">\r\n     <!-- 1 -->\r\n     <g transform=\"translate(353.678125 49.075)scale(0.1 -0.1)\">\r\n      <use xlink:href=\"#DejaVuSans-49\"/>\r\n     </g>\r\n    </g>\r\n    <g id=\"PathCollection_8\">\r\n     <defs>\r\n      <path d=\"M 0 3 \r\nC 0.795609 3 1.55874 2.683901 2.12132 2.12132 \r\nC 2.683901 1.55874 3 0.795609 3 0 \r\nC 3 -0.795609 2.683901 -1.55874 2.12132 -2.12132 \r\nC 1.55874 -2.683901 0.795609 -3 0 -3 \r\nC -0.795609 -3 -1.55874 -2.683901 -2.12132 -2.12132 \r\nC -2.683901 -1.55874 -3 -0.795609 -3 0 \r\nC -3 0.795609 -2.683901 1.55874 -2.12132 2.12132 \r\nC -1.55874 2.683901 -0.795609 3 0 3 \r\nz\r\n\" id=\"m48014f54ec\" style=\"stroke:#3b4cc0;\"/>\r\n     </defs>\r\n     <g>\r\n      <use style=\"fill:#3b4cc0;stroke:#3b4cc0;\" x=\"335.678125\" xlink:href=\"#m48014f54ec\" y=\"61.128125\"/>\r\n     </g>\r\n    </g>\r\n    <g id=\"text_23\">\r\n     <!-- 2 -->\r\n     <g transform=\"translate(353.678125 63.753125)scale(0.1 -0.1)\">\r\n      <use xlink:href=\"#DejaVuSans-50\"/>\r\n     </g>\r\n    </g>\r\n   </g>\r\n  </g>\r\n </g>\r\n <defs>\r\n  <clipPath id=\"pf94552cb8b\">\r\n   <rect height=\"217.44\" width=\"334.8\" x=\"34.240625\" y=\"17.798438\"/>\r\n  </clipPath>\r\n </defs>\r\n</svg>\r\n",
            "image/png": "[encoded data removed]"
          },
          "metadata": {
            "needs_background": "light"
          }
        }
      ]
    },
    {
      "cell_type": "code",
      "metadata": {
        "colab": {
          "base_uri": "https://localhost:8080/"
        },
        "id": "PvDnPiLiNPRa",
        "outputId": "560a7eae-4ff8-4662-b461-2eeccb09e56d"
      },
      "source": [
        "new_data = [[41.37, 6547812]]\n",
        "y_pred = kmeans.predict(new_data)\n",
        "y_pred"
      ],
      "execution_count": 52,
      "outputs": [
        {
          "output_type": "execute_result",
          "data": {
            "text/plain": [
              "array([0])"
            ]
          },
          "metadata": {},
          "execution_count": 52
        }
      ]
    },
    {
      "cell_type": "code",
      "metadata": {
        "id": "LPWThoMRJ0bH"
      },
      "source": [
        "cluster_0 = []\n",
        "cluster_1 = []\n",
        "cluster_2 = []"
      ],
      "execution_count": 53,
      "outputs": []
    },
    {
      "cell_type": "code",
      "metadata": {
        "id": "kcc-GnqJN17I"
      },
      "source": [
        "for i in range(x_clustered.shape[0]):\n",
        "  if x_clustered[i] == 0:\n",
        "    cluster_0.append(df_mes.iloc[i]['stock'])\n",
        "  elif x_clustered[i] == 1:\n",
        "    cluster_1.append(df_mes.iloc[i]['stock'])\n",
        "  elif x_clustered[i] == 2:\n",
        "    cluster_2.append(df_mes.iloc[i]['stock'])"
      ],
      "execution_count": 54,
      "outputs": []
    },
    {
      "cell_type": "code",
      "metadata": {
        "colab": {
          "base_uri": "https://localhost:8080/"
        },
        "id": "DqlJQQ6GIqVn",
        "outputId": "cdeeafec-e56d-468d-ed6d-7377e76c73ac"
      },
      "source": [
        "cluster_0 = pd.Series(cluster_0)\n",
        "cluster_0.drop_duplicates(inplace=True)\n",
        "cluster_0"
      ],
      "execution_count": 55,
      "outputs": [
        {
          "output_type": "execute_result",
          "data": {
            "text/plain": [
              "0      JNJ\n",
              "1      CAT\n",
              "4      TRV\n",
              "6        T\n",
              "12      BA\n",
              "13     XOM\n",
              "17      AA\n",
              "21     WMT\n",
              "25     AXP\n",
              "29      VZ\n",
              "30     UTX\n",
              "42      PG\n",
              "43     HPQ\n",
              "44      KO\n",
              "49     IBM\n",
              "51      HD\n",
              "52     MCD\n",
              "60    KRFT\n",
              "63     JPM\n",
              "72     CVX\n",
              "73      DD\n",
              "81     MMM\n",
              "87     MRK\n",
              "89     DIS\n",
              "dtype: object"
            ]
          },
          "metadata": {},
          "execution_count": 55
        }
      ]
    },
    {
      "cell_type": "code",
      "metadata": {
        "id": "jN6WsF9KXY9U",
        "colab": {
          "base_uri": "https://localhost:8080/"
        },
        "outputId": "75f951a8-a16d-4a21-9acb-7df1f66f098f"
      },
      "source": [
        "cluster_1 = pd.Series(cluster_1)\n",
        "cluster_1.drop_duplicates(inplace=True)\n",
        "cluster_1\n"
      ],
      "execution_count": 56,
      "outputs": [
        {
          "output_type": "execute_result",
          "data": {
            "text/plain": [
              "0    BAC\n",
              "4     GE\n",
              "dtype: object"
            ]
          },
          "metadata": {},
          "execution_count": 56
        }
      ]
    },
    {
      "cell_type": "code",
      "metadata": {
        "colab": {
          "base_uri": "https://localhost:8080/"
        },
        "id": "7fuCgqF-HY4_",
        "outputId": "720b03fe-2824-41f6-90e5-b7bec5a37ef9"
      },
      "source": [
        "cluster_2 = pd.Series(cluster_2)\n",
        "cluster_2.drop_duplicates(inplace=True)\n",
        "cluster_2"
      ],
      "execution_count": 57,
      "outputs": [
        {
          "output_type": "execute_result",
          "data": {
            "text/plain": [
              "0     CSCO\n",
              "4     INTC\n",
              "5      JPM\n",
              "9      PFE\n",
              "12    MSFT\n",
              "16      GE\n",
              "dtype: object"
            ]
          },
          "metadata": {},
          "execution_count": 57
        }
      ]
    },
    {
      "cell_type": "code",
      "execution_count": null,
      "metadata": {},
      "outputs": [],
      "source": []
    }
  ]
}